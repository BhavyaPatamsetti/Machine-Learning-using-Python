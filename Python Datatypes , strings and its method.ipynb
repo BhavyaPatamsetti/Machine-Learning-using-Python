{
 "cells": [
  {
   "cell_type": "markdown",
   "id": "eec7e57c",
   "metadata": {},
   "source": [
    "# Datatypes"
   ]
  },
  {
   "cell_type": "markdown",
   "id": "5f70b9ef",
   "metadata": {},
   "source": [
    "str - 'bhavya'\n",
    "int - 98\n",
    "float - 20.7\n",
    "complex - 1j\n",
    "list - [\"apple\", \"orange\", \"banana\"]\n",
    "tuple - (\"apple\", \"orange\", \"banana\")\n",
    "range - range(8)\n",
    "dict - { \"key\" : \"value\"}\n",
    "set - {\"apple\", \"orange\", \"banana\"}\n",
    "frozenset - frozenset({\"apple\", \"orange\", \"banana\"})\n",
    "bool - true | false\n",
    "bytes - b \"Hello\"\n",
    "bytearray - bytearray(7)\n",
    "memoryview - memoryview(bytes(6))\n",
    "NoneType - None"
   ]
  },
  {
   "cell_type": "code",
   "execution_count": 1,
   "id": "14f254e9",
   "metadata": {},
   "outputs": [
    {
     "name": "stdout",
     "output_type": "stream",
     "text": [
      "19.0\n",
      "(19+0j)\n",
      "3\n",
      "(3.1+0j)\n"
     ]
    }
   ],
   "source": [
    "# type conversion\n",
    "\n",
    "a = 19\n",
    "b = 3.1\n",
    "print(float(a))\n",
    "print(complex(a))\n",
    "print(int(b))\n",
    "print(complex(b))"
   ]
  },
  {
   "cell_type": "code",
   "execution_count": 2,
   "id": "ea98d49f",
   "metadata": {},
   "outputs": [
    {
     "name": "stdout",
     "output_type": "stream",
     "text": [
      "9\n",
      "81\n",
      "100\n",
      "1\n"
     ]
    }
   ],
   "source": [
    "# python has built-in module called random for printing random values. As python dont have random() function\n",
    "\n",
    "import random\n",
    "print(random.randrange(1, 10))\n",
    "print(random.randrange(10, 100))\n",
    "print(random.randrange(100, 102))\n",
    "print(random.randrange(1, 2))"
   ]
  },
  {
   "cell_type": "code",
   "execution_count": null,
   "id": "e516059f",
   "metadata": {},
   "outputs": [],
   "source": []
  },
  {
   "cell_type": "markdown",
   "id": "4ec57f6a",
   "metadata": {},
   "source": [
    "# Strings and its methods"
   ]
  },
  {
   "cell_type": "code",
   "execution_count": 6,
   "id": "2212696f",
   "metadata": {},
   "outputs": [
    {
     "name": "stdout",
     "output_type": "stream",
     "text": [
      "bhavya \n",
      "patamsetti\n",
      "bhavya patamsetti\n"
     ]
    }
   ],
   "source": [
    "x = \"bhavya \"\n",
    "print(x)\n",
    "y = 'patamsetti'\n",
    "print(y)\n",
    "\n",
    "print(x+y)"
   ]
  },
  {
   "cell_type": "code",
   "execution_count": 7,
   "id": "f9ba6e8c",
   "metadata": {},
   "outputs": [
    {
     "name": "stdout",
     "output_type": "stream",
     "text": [
      " vcba ao jkaboua\n",
      "cbj ajkcba\n",
      "bakajs\n"
     ]
    }
   ],
   "source": [
    "# multiline string\n",
    "\n",
    "a = \"\"\" vcba ao jkaboua\n",
    "cbj ajkcba\n",
    "bakajs\"\"\"\n",
    "print(a)"
   ]
  },
  {
   "cell_type": "code",
   "execution_count": 8,
   "id": "7cc3bc36",
   "metadata": {},
   "outputs": [
    {
     "name": "stdout",
     "output_type": "stream",
     "text": [
      " vcba ao jkaboua\n",
      "cbj ajkcba\n",
      "bakajs\n"
     ]
    }
   ],
   "source": [
    "a = ''' vcba ao jkaboua\n",
    "cbj ajkcba\n",
    "bakajs'''\n",
    "print(a)"
   ]
  },
  {
   "cell_type": "code",
   "execution_count": 9,
   "id": "9b974a83",
   "metadata": {},
   "outputs": [
    {
     "name": "stdout",
     "output_type": "stream",
     "text": [
      "h\n",
      "e\n",
      " \n"
     ]
    }
   ],
   "source": [
    "# string and array indexing\n",
    "\n",
    "a = \"hello world\"\n",
    "print(a[0])\n",
    "print(a[1])\n",
    "print(a[5]) #gives space as index 5 has empty space"
   ]
  },
  {
   "cell_type": "code",
   "execution_count": 10,
   "id": "730a4da4",
   "metadata": {},
   "outputs": [
    {
     "name": "stdout",
     "output_type": "stream",
     "text": [
      "b\n",
      "h\n",
      "a\n",
      "v\n",
      "y\n",
      "a\n"
     ]
    }
   ],
   "source": [
    "for x in \"bhavya\":\n",
    "    print(x)"
   ]
  },
  {
   "cell_type": "code",
   "execution_count": 11,
   "id": "31c64b4c",
   "metadata": {},
   "outputs": [
    {
     "name": "stdout",
     "output_type": "stream",
     "text": [
      "0\n",
      "1\n",
      "2\n",
      "3\n",
      "4\n",
      "5\n",
      "6\n",
      "7\n",
      "8\n",
      "9\n"
     ]
    }
   ],
   "source": [
    "for x in range(0,10):\n",
    "    print(x)"
   ]
  },
  {
   "cell_type": "code",
   "execution_count": 12,
   "id": "f83ee345",
   "metadata": {},
   "outputs": [
    {
     "name": "stdout",
     "output_type": "stream",
     "text": [
      "17\n"
     ]
    }
   ],
   "source": [
    "# len() - used to get string length\n",
    "a = \"bhavya patamsetti\"\n",
    "print(len(a))"
   ]
  },
  {
   "cell_type": "code",
   "execution_count": 13,
   "id": "24789053",
   "metadata": {},
   "outputs": [
    {
     "name": "stdout",
     "output_type": "stream",
     "text": [
      "False\n",
      "False\n",
      "True\n"
     ]
    }
   ],
   "source": [
    "# in is used to check whether that particular part is there in the string\n",
    "\n",
    "text = \"Bhavya is from AI branch.\"\n",
    "print(\"ai\" in text)\n",
    "print(\"Ai\" in text)\n",
    "print(\"AI\" in text)  #this again says python is case sensitive"
   ]
  },
  {
   "cell_type": "code",
   "execution_count": 14,
   "id": "3cbfc8e7",
   "metadata": {},
   "outputs": [
    {
     "name": "stdout",
     "output_type": "stream",
     "text": [
      "YUP!!\n"
     ]
    }
   ],
   "source": [
    "text = \"Bhavya is from AI branch.\"\n",
    "if \"branch\" in text:\n",
    "    print(\"YUP!!\")"
   ]
  },
  {
   "cell_type": "code",
   "execution_count": 15,
   "id": "19f5ce3d",
   "metadata": {},
   "outputs": [
    {
     "name": "stdout",
     "output_type": "stream",
     "text": [
      "False\n",
      "True\n"
     ]
    }
   ],
   "source": [
    "text = \"Bhavya is from AI branch.\"\n",
    "print(\"AI\" not in text)\n",
    "print(\"Ai\" not in text)"
   ]
  },
  {
   "cell_type": "markdown",
   "id": "a21be739",
   "metadata": {},
   "source": [
    "# String Slicing"
   ]
  },
  {
   "cell_type": "code",
   "execution_count": null,
   "id": "07e4aae9",
   "metadata": {},
   "outputs": [],
   "source": [
    "# it has start and end index [start : end]"
   ]
  },
  {
   "cell_type": "code",
   "execution_count": 16,
   "id": "8c051947",
   "metadata": {},
   "outputs": [
    {
     "name": "stdout",
     "output_type": "stream",
     "text": [
      "avy\n"
     ]
    }
   ],
   "source": [
    "x = \"bhavya patamsetti\"\n",
    "print(x[2:5])   #start from 2 and end before 5"
   ]
  },
  {
   "cell_type": "code",
   "execution_count": 17,
   "id": "18852aae",
   "metadata": {},
   "outputs": [
    {
     "name": "stdout",
     "output_type": "stream",
     "text": [
      "bhavy\n"
     ]
    }
   ],
   "source": [
    "print(x[:5])"
   ]
  },
  {
   "cell_type": "code",
   "execution_count": 18,
   "id": "6efe2dec",
   "metadata": {},
   "outputs": [
    {
     "name": "stdout",
     "output_type": "stream",
     "text": [
      "avya patamsetti\n"
     ]
    }
   ],
   "source": [
    "print(x[2:]) #from 2 till end"
   ]
  },
  {
   "cell_type": "code",
   "execution_count": 19,
   "id": "c40bfa9a",
   "metadata": {},
   "outputs": [
    {
     "data": {
      "text/plain": [
       "'BHAVYA PATAMSETTI'"
      ]
     },
     "execution_count": 19,
     "metadata": {},
     "output_type": "execute_result"
    }
   ],
   "source": [
    "# upper case\n",
    "y = x.upper()\n",
    "y"
   ]
  },
  {
   "cell_type": "code",
   "execution_count": 20,
   "id": "2e9c7912",
   "metadata": {},
   "outputs": [
    {
     "data": {
      "text/plain": [
       "'bhavya patamsetti'"
      ]
     },
     "execution_count": 20,
     "metadata": {},
     "output_type": "execute_result"
    }
   ],
   "source": [
    "z = y.lower()\n",
    "z"
   ]
  },
  {
   "cell_type": "code",
   "execution_count": 21,
   "id": "1e6286d0",
   "metadata": {},
   "outputs": [],
   "source": [
    "# strip() is used to remove white spaces from beginning or end"
   ]
  },
  {
   "cell_type": "code",
   "execution_count": 22,
   "id": "bae337f0",
   "metadata": {},
   "outputs": [
    {
     "name": "stdout",
     "output_type": "stream",
     "text": [
      "bhavya bhavya\n"
     ]
    }
   ],
   "source": [
    "x = \" bhavya bhavya \"\n",
    "print(x.strip())"
   ]
  },
  {
   "cell_type": "code",
   "execution_count": 23,
   "id": "d6bf2f5e",
   "metadata": {},
   "outputs": [
    {
     "name": "stdout",
     "output_type": "stream",
     "text": [
      " lhavya lhavya \n"
     ]
    }
   ],
   "source": [
    "print(x.replace(\"b\", \"l\"))"
   ]
  },
  {
   "cell_type": "code",
   "execution_count": 24,
   "id": "cb213700",
   "metadata": {},
   "outputs": [
    {
     "name": "stdout",
     "output_type": "stream",
     "text": [
      "['bhavya', 'patamsetti']\n"
     ]
    }
   ],
   "source": [
    "x = \"bhavya patamsetti\"\n",
    "print(x.split(\" \"))"
   ]
  },
  {
   "cell_type": "code",
   "execution_count": 25,
   "id": "4fc6d97b",
   "metadata": {},
   "outputs": [
    {
     "data": {
      "text/plain": [
       "'I am 19'"
      ]
     },
     "execution_count": 25,
     "metadata": {},
     "output_type": "execute_result"
    }
   ],
   "source": [
    "age = '19'\n",
    "x = \"I am \" + age\n",
    "x"
   ]
  },
  {
   "cell_type": "code",
   "execution_count": 26,
   "id": "0d1d53f0",
   "metadata": {},
   "outputs": [
    {
     "name": "stdout",
     "output_type": "stream",
     "text": [
      "I'm 19\n"
     ]
    }
   ],
   "source": [
    "#. format() is used to combine strings and numbers and place holder must be {} then only this works\n",
    "\n",
    "age = 19\n",
    "x = \"I'm {}\"\n",
    "print(x.format(age))"
   ]
  },
  {
   "cell_type": "code",
   "execution_count": 27,
   "id": "62c8ec38",
   "metadata": {},
   "outputs": [
    {
     "name": "stdout",
     "output_type": "stream",
     "text": [
      "Date 20 month 3 year 2003 , This is my dob\n",
      "My dob 20-3-2003\n",
      "2003-20-3\n"
     ]
    }
   ],
   "source": [
    "date = 20\n",
    "month = 3\n",
    "year = 2003\n",
    "\n",
    "a = \"Date {} month {} year {} , This is my dob\"\n",
    "print(a.format(date, month, year))\n",
    "b = \"My dob {}-{}-{}\"\n",
    "print(b.format(date, month, year))\n",
    "\n",
    "\n",
    "# you can change order by giving index values in placeholder {}\n",
    "\n",
    "c = \"{2}-{0}-{1}\"\n",
    "print(c.format(date, month, year))"
   ]
  },
  {
   "cell_type": "code",
   "execution_count": null,
   "id": "7e2281d8",
   "metadata": {},
   "outputs": [],
   "source": []
  },
  {
   "cell_type": "code",
   "execution_count": null,
   "id": "948f6e77",
   "metadata": {},
   "outputs": [],
   "source": []
  },
  {
   "cell_type": "code",
   "execution_count": null,
   "id": "b2e09b4b",
   "metadata": {},
   "outputs": [],
   "source": []
  }
 ],
 "metadata": {
  "kernelspec": {
   "display_name": "Python 3",
   "language": "python",
   "name": "python3"
  },
  "language_info": {
   "codemirror_mode": {
    "name": "ipython",
    "version": 3
   },
   "file_extension": ".py",
   "mimetype": "text/x-python",
   "name": "python",
   "nbconvert_exporter": "python",
   "pygments_lexer": "ipython3",
   "version": "3.8.8"
  }
 },
 "nbformat": 4,
 "nbformat_minor": 5
}
